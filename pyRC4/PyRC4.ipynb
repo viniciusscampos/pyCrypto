{
 "cells": [
  {
   "cell_type": "markdown",
   "metadata": {},
   "source": [
    "## Universidade Federal do Rio de Janeiro (UFRJ)\n",
    "### Disciplina: EEL840\n",
    "### Vinícius Silva Campos DRE: 113023327"
   ]
  },
  {
   "cell_type": "markdown",
   "metadata": {},
   "source": [
    "## Implementação em python para encriptar e decriptar textos planos utilizando usando RC4 disponível na biblioteca pyCrypto."
   ]
  },
  {
   "cell_type": "markdown",
   "metadata": {},
   "source": [
    "### Instalando e importando os pacotes necessários:"
   ]
  },
  {
   "cell_type": "code",
   "execution_count": 1,
   "metadata": {},
   "outputs": [
    {
     "name": "stdout",
     "output_type": "stream",
     "text": [
      "Requirement already satisfied: pycryptodome in c:\\users\\vinic\\anaconda3\\lib\\site-packages\n"
     ]
    }
   ],
   "source": [
    "!pip install pycryptodome\n",
    "\n",
    "from Crypto.Cipher import ARC4\n",
    "from Crypto.Hash import SHA\n",
    "import secrets"
   ]
  },
  {
   "cell_type": "markdown",
   "metadata": {},
   "source": [
    "### Implementação da função de encriptação."
   ]
  },
  {
   "cell_type": "code",
   "execution_count": 2,
   "metadata": {
    "collapsed": true
   },
   "outputs": [],
   "source": [
    "def encrypt(file_path, output_path, key, nonce):\n",
    "    \"\"\"Recebe como argumento o path de um arquivo e escreve o conteúdo encriptado no arquivo especificado no argumento.\"\"\"\n",
    "    # Abre o arquivo.\n",
    "    file = open(file_path, 'r')\n",
    "    # Le o conteúdo do arquivo.\n",
    "    file_content = file.read()\n",
    "    # Fecha o arquivo.\n",
    "    file.close()    \n",
    "    # Cria a cifra que será utilizada.\n",
    "    cipher = ARC4.new(nonce + key)\n",
    "    # Conteúdo encriptado com encode especificado como sendo utf-8.\n",
    "    #encrypted_content = nonce + cipher.encrypt(file_content.encode(\"utf-8\"))    \n",
    "    encrypted_content = cipher.encrypt(file_content.encode(\"utf-8\"))    \n",
    "    # Abre o arquivo no qual deseja-se armazenar o conteúdo encriptado.\n",
    "    output_file = open(output_path, 'wb')\n",
    "    # Escreve o conteúdo encriptado no arquivo de saída.\n",
    "    output_file.write(encrypted_content)\n",
    "    # Fecha o arquivo.\n",
    "    output_file.close()"
   ]
  },
  {
   "cell_type": "markdown",
   "metadata": {},
   "source": [
    "### Implementação do função de decriptação"
   ]
  },
  {
   "cell_type": "code",
   "execution_count": 3,
   "metadata": {
    "collapsed": true
   },
   "outputs": [],
   "source": [
    "def decrypt(file_path, output_path, key, nonce):\n",
    "    \"\"\"Recebe como argumento o path do arquivo cujo conteúdo está encriptado e \n",
    "    escreve o conteúdo decriptado no arquivo especificado no argumento.\"\"\"\n",
    "    # Abre o arquivo.\n",
    "    file = open(file_path, 'rb')\n",
    "    # Le o conteúdo do arquivo.\n",
    "    file_content = file.read()\n",
    "    # Fecha o arquivo.\n",
    "    file.close()\n",
    "    # Cria a cifra que será utilizada.\n",
    "    cipher = ARC4.new(nonce + key)        \n",
    "    # Decripta o conteúdo do arquivo fornecido especificando que o decode deve ser utf-8.\n",
    "    decrypted_content = cipher.decrypt(file_content).decode(\"utf-8\")    \n",
    "    # Abre o arquivo no qual deseja-se armazenar o conteúdo encriptado.\n",
    "    output_file = open(output_path, 'w')\n",
    "    # Escreve o conteúdo encriptado no arquivo de saída.\n",
    "    output_file.write(str(decrypted_content))\n",
    "    # Fecha o arquivo.\n",
    "    output_file.close()"
   ]
  },
  {
   "cell_type": "markdown",
   "metadata": {},
   "source": [
    "### Especificação do conjunto de variáveis que serão utilizados para os testes abaixo."
   ]
  },
  {
   "cell_type": "code",
   "execution_count": 4,
   "metadata": {},
   "outputs": [],
   "source": [
    "# Cria a chave que será utilizada contendo 16 bits.\n",
    "key = secrets.token_bytes(16)\n",
    "# Cria o nonce que será utilizado para troca de mensagens.\n",
    "nonce = secrets.token_bytes(16)\n",
    "# Path do arquivo que deverá ser encriptado.\n",
    "initial_file_path = \"resumo-artigo.txt\"\n",
    "# Path do arquivo encriptado.\n",
    "encrypted_file_path = \"encrypted.txt\"\n",
    "# Path do arquivo decriptado.\n",
    "decrypted_file_path = \"decrypted.txt\""
   ]
  },
  {
   "cell_type": "markdown",
   "metadata": {},
   "source": [
    "### Testes:"
   ]
  },
  {
   "cell_type": "code",
   "execution_count": 5,
   "metadata": {},
   "outputs": [],
   "source": [
    "# Encriptação do arquivo.\n",
    "encrypt(initial_file_path, encrypted_file_path, key, nonce)\n",
    "\n",
    "# Decriptação do arquivo.\n",
    "decrypt(encrypted_file_path, decrypted_file_path, key, nonce)\n",
    "\n",
    "# Lê conteudo do arquivo inicial.\n",
    "initial_file_content = open(initial_file_path, 'r').read()\n",
    "\n",
    "# Lê conteudo do arquivo decriptado.\n",
    "decrypted_file_content = open(decrypted_file_path, 'r').read()\n",
    "\n",
    "assert initial_file_content == decrypted_file_content\n"
   ]
  },
  {
   "cell_type": "markdown",
   "metadata": {},
   "source": [
    "## Bibliografia"
   ]
  },
  {
   "cell_type": "markdown",
   "metadata": {},
   "source": [
    "* http://pycryptodome.readthedocs.io/en/latest/src/cipher/arc4.html"
   ]
  }
 ],
 "metadata": {
  "kernelspec": {
   "display_name": "Python 3",
   "language": "python",
   "name": "python3"
  },
  "language_info": {
   "codemirror_mode": {
    "name": "ipython",
    "version": 3
   },
   "file_extension": ".py",
   "mimetype": "text/x-python",
   "name": "python",
   "nbconvert_exporter": "python",
   "pygments_lexer": "ipython3",
   "version": "3.6.1"
  }
 },
 "nbformat": 4,
 "nbformat_minor": 2
}
