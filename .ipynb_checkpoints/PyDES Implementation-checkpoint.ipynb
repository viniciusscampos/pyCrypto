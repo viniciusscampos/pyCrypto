{
 "cells": [
  {
   "cell_type": "markdown",
   "metadata": {},
   "source": [
    "Implementação python para encriptar e decriptar textos/arquivos utilizando o algoritmo DES implementado pela biblioteca pyDES."
   ]
  },
  {
   "cell_type": "markdown",
   "metadata": {},
   "source": [
    "Instalando e importando os pacotes necessários:"
   ]
  },
  {
   "cell_type": "code",
   "execution_count": 2,
   "metadata": {},
   "outputs": [
    {
     "name": "stdout",
     "output_type": "stream",
     "text": [
      "Requirement already satisfied: pydes in c:\\users\\vinic\\anaconda3\\lib\\site-packages\n"
     ]
    }
   ],
   "source": [
    "!pip install pydes\n",
    "\n",
    "import pyDes\n",
    "import secrets"
   ]
  },
  {
   "cell_type": "markdown",
   "metadata": {},
   "source": [
    "Implementação do método de encriptação"
   ]
  },
  {
   "cell_type": "code",
   "execution_count": 22,
   "metadata": {},
   "outputs": [],
   "source": [
    "def encrypt(file_path, output_path):\n",
    "    \"\"\"Recebe como argumento o path de um arquivo e escreve o conteúdo encriptado no arquivo especificado no argumento.\"\"\"\n",
    "    # Abre o arquivo.\n",
    "    file = open(file_path, 'r')\n",
    "    # Le o conteúdo do arquivo.\n",
    "    file_content = file.read()\n",
    "    # Fecha o arquivo.\n",
    "    file.close()\n",
    "    # Cria a chave que será utilizada contendo 8 bits (exigência da biblioteca pyDES).\n",
    "    key = secrets.token_bytes(8)\n",
    "    # Inicializando a classe que implementa o algoritmo DES.\n",
    "    des = pyDes.des(key, pyDes.CBC, \"\\0\\0\\0\\0\\0\\0\\0\\0\", pad=None, padmode=pyDes.PAD_PKCS5)\n",
    "    # Converte o conteúdo lido do arquivo para encode string (pyDES não trabalha com unicode).\n",
    "    file_content = file_content.encode('ascii','replace')\n",
    "    # Conteúdo encriptado.\n",
    "    encrypted_content = des.encrypt(file_content)\n",
    "    # Abre o arquivo no qual deseja-se armazenar o conteúdo encriptado.\n",
    "    output_file = open(output_path, 'w')\n",
    "    # Escreve o conteúdo encriptado no arquivo de saída.\n",
    "    output_file.write(str(encrypted_content))\n",
    "    # Fecha o arquivo.\n",
    "    output_file.close()"
   ]
  },
  {
   "cell_type": "code",
   "execution_count": 23,
   "metadata": {},
   "outputs": [],
   "source": [
    "encrypt(\"C:\\\\Users\\\\vinic\\\\Documents\\\\Projects\\\\pyCrypto\\\\test.txt\", \"C:\\\\Users\\\\vinic\\\\Documents\\\\Projects\\\\pyCrypto\\\\encrypted_file.txt\")"
   ]
  }
 ],
 "metadata": {
  "kernelspec": {
   "display_name": "Python 3",
   "language": "python",
   "name": "python3"
  },
  "language_info": {
   "codemirror_mode": {
    "name": "ipython",
    "version": 3
   },
   "file_extension": ".py",
   "mimetype": "text/x-python",
   "name": "python",
   "nbconvert_exporter": "python",
   "pygments_lexer": "ipython3",
   "version": "3.6.1"
  }
 },
 "nbformat": 4,
 "nbformat_minor": 2
}
